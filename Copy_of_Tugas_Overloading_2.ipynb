{
  "nbformat": 4,
  "nbformat_minor": 0,
  "metadata": {
    "colab": {
      "provenance": [],
      "include_colab_link": true
    },
    "kernelspec": {
      "name": "python3",
      "display_name": "Python 3"
    },
    "language_info": {
      "name": "python"
    }
  },
  "cells": [
    {
      "cell_type": "markdown",
      "metadata": {
        "id": "view-in-github",
        "colab_type": "text"
      },
      "source": [
        "<a href=\"https://colab.research.google.com/github/sutriyanii/class-objek/blob/main/Copy_of_Tugas_Overloading_2.ipynb\" target=\"_parent\"><img src=\"https://colab.research.google.com/assets/colab-badge.svg\" alt=\"Open In Colab\"/></a>"
      ]
    },
    {
      "cell_type": "code",
      "execution_count": 6,
      "metadata": {
        "id": "5zCytCeM1uD4"
      },
      "outputs": [],
      "source": [
        "#class Nama\n",
        "class nama:\n",
        "#Buat fungsi yang digunakan untuk mengabungkan nama dengan ketentuan nama depan, nama tengah, nama akhir, dan seterusnya dianggap 1 (satu) parameter\n",
        "  def gabung(self, *args):\n",
        "      if(len(args)<= 4):\n",
        "        sum = \"\"\n",
        "        for num in args:\n",
        "            sum += num\n",
        "        print(sum)\n",
        "      else:\n",
        "        print(\"maksimum\")"
      ]
    },
    {
      "cell_type": "code",
      "source": [
        "#Buat main program\n",
        "hasil = nama()\n",
        "#Panggil fungsi untuk membuat nama lengkap 5 nama teman kalian\n",
        "hasil.gabung(\"sutri \", \"yani \")\n",
        "hasil.gabung(\"sania \", \"regita \", \"prahesti \")\n",
        "hasil.gabung(\"neyla \", \"ayudya \")\n",
        "hasil.gabung(\"riya \", \"agustin \")\n",
        "hasil.gabung(\"aulia \", \"putri \", \"mashita \")"
      ],
      "metadata": {
        "id": "liQBcJWZ12MN",
        "colab": {
          "base_uri": "https://localhost:8080/"
        },
        "outputId": "10a61b20-7102-4050-bd12-6a539ec344eb"
      },
      "execution_count": 7,
      "outputs": [
        {
          "output_type": "stream",
          "name": "stdout",
          "text": [
            "sutri yani \n",
            "sania regita prahesti \n",
            "neyla ayudya \n",
            "riya agustin \n",
            "aulia putri mashita \n"
          ]
        }
      ]
    },
    {
      "cell_type": "code",
      "source": [
        "#Tulisakan kesimpulan dari materi Overloading menurut pemahaman anda!\n",
        "#menurut saya materi overloding ini kita bisa membuat sebuah metode yang bisa mengenal beberapa variasi jumlah parameter.\n"
      ],
      "metadata": {
        "id": "xwFmppIG3JGE"
      },
      "execution_count": 8,
      "outputs": []
    }
  ]
}