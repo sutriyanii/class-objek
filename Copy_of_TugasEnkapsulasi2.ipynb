{
  "nbformat": 4,
  "nbformat_minor": 0,
  "metadata": {
    "colab": {
      "provenance": [],
      "include_colab_link": true
    },
    "kernelspec": {
      "name": "python3",
      "display_name": "Python 3"
    },
    "language_info": {
      "name": "python"
    }
  },
  "cells": [
    {
      "cell_type": "markdown",
      "metadata": {
        "id": "view-in-github",
        "colab_type": "text"
      },
      "source": [
        "<a href=\"https://colab.research.google.com/github/sutriyanii/class-objek/blob/main/Copy_of_TugasEnkapsulasi2.ipynb\" target=\"_parent\"><img src=\"https://colab.research.google.com/assets/colab-badge.svg\" alt=\"Open In Colab\"/></a>"
      ]
    },
    {
      "cell_type": "markdown",
      "source": [
        "Buatlah kelas RekeningBank dengan atribut berikut:\n",
        "\n",
        "*   nama_pemilik (private)\n",
        "*   saldo (private)\n",
        "\n",
        "Berikan metode berikut:\n",
        "\n",
        "*   __init__: Menginisialisasi saldo dan nama_pemilik.\n",
        "*   set_saldo: Mengubah nilai saldo.\n",
        "*   get_saldo: Mengembalikan nilai saldo.\n",
        "*   set_nama_pemilik: Mengubah nama pemilik.\n",
        "*   get_nama_pemilik: Mengembalikan nama pemilik.\n",
        "\n",
        "\n",
        "\n",
        "\n",
        "\n",
        "\n",
        "\n",
        "\n"
      ],
      "metadata": {
        "id": "PktiI90eS6Ee"
      }
    },
    {
      "cell_type": "code",
      "source": [
        "# Desain class\n",
        "class RekeningBank:\n",
        "  def __init__(self, nama_pemilik, saldo):\n",
        "    self.__nama_pemilik = nama_pemilik\n",
        "    self.__saldo = saldo\n",
        "\n",
        "  def get_nama_pemilik(self):\n",
        "    return self.__nama_pemilik\n",
        "  def set_nama_pemilik(self, nama_pemilik):\n",
        "    self.__nama_pemilik = nama_pemilik\n",
        "\n",
        "  def get_saldo(self):\n",
        "    return self.__saldo\n",
        "  def set_saldo(self, saldo):\n",
        "    if saldo >3000000:\n",
        "      self._saldo = 3000000\n",
        "    elif saldo <5000000:\n",
        "       self.__saldo = 5000000\n",
        "    else:\n",
        "        self.__saldo = saldo"
      ],
      "metadata": {
        "id": "Pyj-mkyciVfk"
      },
      "execution_count": 3,
      "outputs": []
    },
    {
      "cell_type": "code",
      "source": [
        "#Program utama untuk mendemonstrasikan class RekeningBank\n",
        "#yang menunjukkan penggunaan semua fungsi yang ada\n",
        "\n",
        "# Membuat objek RekeningBank dengan nama Riya dengan saldo 4000000\n",
        "user1 = RekeningBank('Sutriyani', 5000000)\n",
        "\n",
        "#Mengakses/menampilkan nama dan saldo menggunakan fungsi\n",
        "print('Nama saya', user1.get_nama_pemilik(), 'mempunyai saldo sebesar Rp.', user1.get_saldo())\n",
        "\n",
        "#Mengubah nama menjadi nama anda masing-masing dan saldo bebas menggunakan fungsi\n",
        "user1.set_nama_pemilik('Riya')\n",
        "user1.set_saldo(3000000)\n",
        "\n",
        "#Mengakses/menampilkan nama dan saldo setelah diubah\n",
        "print('Nama saya', user1.get_nama_pemilik(), 'mempunyai saldo sebesar Rp', user1.get_saldo)"
      ],
      "metadata": {
        "id": "aOwy6rfdSga2",
        "colab": {
          "base_uri": "https://localhost:8080/"
        },
        "outputId": "18ddc2a8-c23b-41c8-c208-59541d595271"
      },
      "execution_count": 4,
      "outputs": [
        {
          "output_type": "stream",
          "name": "stdout",
          "text": [
            "Nama saya Sutriyani mempunyai saldo sebesar Rp. 5000000\n",
            "Nama saya Riya mempunyai saldo sebesar Rp <bound method RekeningBank.get_saldo of <__main__.RekeningBank object at 0x7d42fb78c6d0>>\n"
          ]
        }
      ]
    }
  ]
}